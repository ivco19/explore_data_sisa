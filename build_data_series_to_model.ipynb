{
 "cells": [
  {
   "cell_type": "markdown",
   "metadata": {},
   "source": [
    "# Versión en Python"
   ]
  },
  {
   "cell_type": "code",
   "execution_count": 1,
   "metadata": {},
   "outputs": [],
   "source": [
    "import pandas as pd\n",
    "import arcovid19 as ac\n",
    "import numpy as np"
   ]
  },
  {
   "cell_type": "code",
   "execution_count": 2,
   "metadata": {},
   "outputs": [
    {
     "name": "stdout",
     "output_type": "stream",
     "text": [
      "Covid19Determinaciones.csv: Little-endian UTF-16 Unicode text, with CRLF line terminators\r\n"
     ]
    }
   ],
   "source": [
    "#el problema es que no es un CSV de texto plano, sino un archivo de datos sin formato.\n",
    "#Lo podes verificar con:\n",
    "#!file Covid19Determinaciones.csv\n",
    "\n",
    "# para pasarlo a texto plano (ascii) podes hacer esto:\n",
    "\n",
    "#!iconv -f utf-16 -t utf-8 Covid19Determinaciones.csv > Covid19Determinaciones_ascii.csv"
   ]
  },
  {
   "cell_type": "code",
   "execution_count": 3,
   "metadata": {},
   "outputs": [
    {
     "data": {
      "text/html": [
       "<div>\n",
       "<style scoped>\n",
       "    .dataframe tbody tr th:only-of-type {\n",
       "        vertical-align: middle;\n",
       "    }\n",
       "\n",
       "    .dataframe tbody tr th {\n",
       "        vertical-align: top;\n",
       "    }\n",
       "\n",
       "    .dataframe thead th {\n",
       "        text-align: right;\n",
       "    }\n",
       "</style>\n",
       "<table border=\"1\" class=\"dataframe\">\n",
       "  <thead>\n",
       "    <tr style=\"text-align: right;\">\n",
       "      <th></th>\n",
       "      <th></th>\n",
       "      <th>total</th>\n",
       "      <th>positivos</th>\n",
       "    </tr>\n",
       "    <tr>\n",
       "      <th>fecha</th>\n",
       "      <th>provincia</th>\n",
       "      <th></th>\n",
       "      <th></th>\n",
       "    </tr>\n",
       "  </thead>\n",
       "  <tbody>\n",
       "    <tr>\n",
       "      <th>2020-02-11</th>\n",
       "      <th>CABA</th>\n",
       "      <td>2</td>\n",
       "      <td>0.0</td>\n",
       "    </tr>\n",
       "    <tr>\n",
       "      <th rowspan=\"2\" valign=\"top\">2020-02-20</th>\n",
       "      <th>Buenos Aires</th>\n",
       "      <td>1</td>\n",
       "      <td>0.0</td>\n",
       "    </tr>\n",
       "    <tr>\n",
       "      <th>CABA</th>\n",
       "      <td>1</td>\n",
       "      <td>0.0</td>\n",
       "    </tr>\n",
       "    <tr>\n",
       "      <th>2020-02-27</th>\n",
       "      <th>CABA</th>\n",
       "      <td>4</td>\n",
       "      <td>0.0</td>\n",
       "    </tr>\n",
       "    <tr>\n",
       "      <th>2020-02-28</th>\n",
       "      <th>CABA</th>\n",
       "      <td>10</td>\n",
       "      <td>0.0</td>\n",
       "    </tr>\n",
       "    <tr>\n",
       "      <th>2020-03-02</th>\n",
       "      <th>CABA</th>\n",
       "      <td>5</td>\n",
       "      <td>0.0</td>\n",
       "    </tr>\n",
       "  </tbody>\n",
       "</table>\n",
       "</div>"
      ],
      "text/plain": [
       "                         total  positivos\n",
       "fecha      provincia                     \n",
       "2020-02-11 CABA              2        0.0\n",
       "2020-02-20 Buenos Aires      1        0.0\n",
       "           CABA              1        0.0\n",
       "2020-02-27 CABA              4        0.0\n",
       "2020-02-28 CABA             10        0.0\n",
       "2020-03-02 CABA              5        0.0"
      ]
     },
     "execution_count": 3,
     "metadata": {},
     "output_type": "execute_result"
    }
   ],
   "source": [
    "#Curación\n",
    "df = pd.read_csv('Covid19Determinaciones_ascii.csv')\n",
    "df = df.fillna(0)\n",
    "df['fecha'] = pd.to_datetime(df['fecha'], format='%Y-%m-%d')\n",
    "df['ultima_actualizacion'] = pd.to_datetime(df['fecha'], format='%Y-%m-%d')\n",
    "df = df[['fecha', 'provincia', 'total', 'positivos']]\n",
    "\n",
    "\n",
    "'''sub_DataFrame'''\n",
    "df = df.set_index(['fecha', 'provincia'])\n",
    "df_fechas_provincia = df.groupby(['fecha','provincia'], as_index = True).sum()\n",
    "df_fechas_provincia.head(6)\n"
   ]
  },
  {
   "cell_type": "code",
   "execution_count": 4,
   "metadata": {},
   "outputs": [],
   "source": [
    "'''Distribuciones Acumuladas por fecha y provincia para CABA'''\n",
    "\n",
    "df_provincia_CABA = df_fechas_provincia.loc[(slice(None), 'CABA'), :]\n",
    "\n",
    "dfa_total_fecha_CABA = df_provincia_CABA.total.cumsum().values\n",
    "dfa_positivos_fecha_CABA = df_provincia_CABA.positivos.cumsum().values\n",
    "\n",
    "dfa_CABA = df_provincia_CABA.reset_index(['fecha', 'provincia'])\n",
    "dfa_CABA['dfa_total'] = dfa_total_fecha_CABA\n",
    "dfa_CABA['dfa_positivos'] = dfa_positivos_fecha_CABA\n",
    "\n",
    "\n",
    "'''Lista de fechas'''\n",
    "\n",
    "df_fecha = df_provincia_CABA.groupby('fecha', as_index = True).sum()\n",
    "fechas = df_fecha.index.unique()\n",
    "dias = [0]\n",
    "for d in range(1, len(fechas)):\n",
    "    Delta_t = (fechas[d]-fechas.min()).days\n",
    "    dias.append(Delta_t)\n",
    "\n",
    "dfa_CABA['dias'] = dias\n",
    "\n",
    "\n",
    "'''save DataFrame'''\n",
    "\n",
    "dfa_CABA.drop(['total', 'positivos', 'provincia'],\n",
    "              axis =1).to_csv('dfa_fecha_CABA.csv', index=False, encoding='utf-8')\n"
   ]
  },
  {
   "cell_type": "code",
   "execution_count": 5,
   "metadata": {},
   "outputs": [],
   "source": [
    "'''Distribuciones Acumuladas por fecha y provincia para CBA'''\n",
    "\n",
    "df_provincia_CBA = df_fechas_provincia.loc[(slice(None), 'Córdoba'), :]\n",
    "\n",
    "dfa_total_fecha_CBA = df_provincia_CBA.total.cumsum().values\n",
    "dfa_positivos_fecha_CBA = df_provincia_CBA.positivos.cumsum().values\n",
    "\n",
    "dfa_CBA = df_provincia_CBA.reset_index(['fecha', 'provincia'])\n",
    "dfa_CBA['dfa_total'] = dfa_total_fecha_CBA\n",
    "dfa_CBA['dfa_positivos'] = dfa_positivos_fecha_CBA\n",
    "\n",
    "\n",
    "'''Lista de fechas'''\n",
    "\n",
    "df_fecha = df_provincia_CBA.groupby('fecha', as_index = True).sum()\n",
    "fechas = df_fecha.index.unique()\n",
    "dias = [0]\n",
    "for d in range(1, len(fechas)):\n",
    "    Delta_t = (fechas[d]-fechas.min()).days\n",
    "    dias.append(Delta_t)\n",
    "\n",
    "dfa_CBA['dias'] = dias\n",
    "\n",
    "\n",
    "'''save DataFrame'''\n",
    "\n",
    "dfa_CBA.drop(['total', 'positivos', 'provincia'],\n",
    "              axis =1).to_csv('dfa_fecha_CBA.csv', index=False, encoding='utf-8')"
   ]
  },
  {
   "cell_type": "code",
   "execution_count": 9,
   "metadata": {},
   "outputs": [],
   "source": [
    "'''Distribuciones Acumuladas por fecha para toda la nación'''\n",
    "\n",
    "df_fecha = df_fechas_provincia.groupby('fecha', as_index = True).sum()\n",
    "\n",
    "dfa_total_fecha = df_fecha.total.cumsum().values\n",
    "dfa_positivos_fecha = df_fecha.positivos.cumsum().values\n",
    "\n",
    "\n",
    "'''Lista de fechas'''\n",
    "\n",
    "df_fecha = df_fechas_provincia.groupby('fecha', as_index = True).sum()\n",
    "fechas = df_fecha.index.unique()\n",
    "dias = [0]\n",
    "for d in range(1, len(fechas)):\n",
    "    Delta_t = (fechas[d]-fechas.min()).days\n",
    "    dias.append(Delta_t)\n",
    "\n",
    "\n",
    "df_fecha['dfa_total'] = dfa_total_fecha\n",
    "df_fecha['dfa_positivos'] = dfa_positivos_fecha\n",
    "df_fecha['dias'] = dias\n",
    "\n",
    "\n",
    "'''save DataFrame'''\n",
    "\n",
    "df_fecha.drop(['total','positivos'],\n",
    "              axis =1).reset_index('fecha').to_csv('dfa_fecha_nac.csv', index=False,\n",
    "                                     encoding='utf-8')"
   ]
  },
  {
   "cell_type": "code",
   "execution_count": 24,
   "metadata": {},
   "outputs": [
    {
     "data": {
      "text/plain": [
       "<matplotlib.axes._subplots.AxesSubplot at 0x7fc5041db240>"
      ]
     },
     "execution_count": 24,
     "metadata": {},
     "output_type": "execute_result"
    },
    {
     "data": {
      "image/png": "[encoded data removed]",
      "text/plain": [
       "<Figure size 432x288 with 1 Axes>"
      ]
     },
     "metadata": {
      "needs_background": "light"
     },
     "output_type": "display_data"
    }
   ],
   "source": [
    "df_fecha.dfa_total.plot(legend=True)\n",
    "df_fecha.dfa_positivos.plot(legend=True)"
   ]
  },
  {
   "cell_type": "code",
   "execution_count": null,
   "metadata": {},
   "outputs": [],
   "source": []
  }
 ],
 "metadata": {
  "kernelspec": {
   "display_name": "Python 3",
   "language": "python",
   "name": "python3"
  },
  "language_info": {
   "codemirror_mode": {
    "name": "ipython",
    "version": 3
   },
   "file_extension": ".py",
   "mimetype": "text/x-python",
   "name": "python",
   "nbconvert_exporter": "python",
   "pygments_lexer": "ipython3",
   "version": "3.6.9"
  }
 },
 "nbformat": 4,
 "nbformat_minor": 4
}
